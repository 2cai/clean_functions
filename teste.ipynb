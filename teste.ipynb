{
 "cells": [
  {
   "cell_type": "code",
   "execution_count": 8,
   "metadata": {},
   "outputs": [
    {
     "name": "stdout",
     "output_type": "stream",
     "text": [
      "Defaulting to user installation because normal site-packages is not writeable\n",
      "Collecting git+https://github.com/2cai/cleanfunctions\n",
      "  Cloning https://github.com/2cai/cleanfunctions to /tmp/pip-req-build-gqg_xe4v\n",
      "  Running command git clone -q https://github.com/2cai/cleanfunctions /tmp/pip-req-build-gqg_xe4v\n",
      "Requirement already satisfied: pandas in /home/gabriel/.local/lib/python3.10/site-packages (from cleanfunctions==1.0.0) (1.4.2)\n",
      "Collecting datetime\n",
      "  Using cached DateTime-4.7-py2.py3-none-any.whl (52 kB)\n",
      "Requirement already satisfied: IPython in /home/gabriel/.local/lib/python3.10/site-packages (from cleanfunctions==1.0.0) (8.2.0)\n",
      "Requirement already satisfied: matplotlib in /home/gabriel/.local/lib/python3.10/site-packages (from cleanfunctions==1.0.0) (3.5.2)\n",
      "Collecting scipy\n",
      "  Using cached scipy-1.9.1-cp310-cp310-manylinux_2_17_x86_64.manylinux2014_x86_64.whl (43.9 MB)\n",
      "Collecting pyspark\n",
      "  Downloading pyspark-3.3.0.tar.gz (281.3 MB)\n",
      "     |████████████████████████████████| 281.3 MB 3.7 MB/s             \n",
      "\u001b[?25hCollecting zope.interface\n",
      "  Downloading zope.interface-5.4.0.tar.gz (249 kB)\n",
      "     |████████████████████████████████| 249 kB 2.6 MB/s            \n",
      "\u001b[?25hRequirement already satisfied: pytz in /home/gabriel/.local/lib/python3.10/site-packages (from datetime->cleanfunctions==1.0.0) (2022.1)\n",
      "Requirement already satisfied: backcall in /home/gabriel/.local/lib/python3.10/site-packages (from IPython->cleanfunctions==1.0.0) (0.2.0)\n",
      "Requirement already satisfied: decorator in /home/gabriel/.local/lib/python3.10/site-packages (from IPython->cleanfunctions==1.0.0) (5.1.1)\n",
      "Requirement already satisfied: jedi>=0.16 in /home/gabriel/.local/lib/python3.10/site-packages (from IPython->cleanfunctions==1.0.0) (0.18.1)\n",
      "Requirement already satisfied: matplotlib-inline in /home/gabriel/.local/lib/python3.10/site-packages (from IPython->cleanfunctions==1.0.0) (0.1.3)\n",
      "Requirement already satisfied: pickleshare in /home/gabriel/.local/lib/python3.10/site-packages (from IPython->cleanfunctions==1.0.0) (0.7.5)\n",
      "Requirement already satisfied: prompt-toolkit!=3.0.0,!=3.0.1,<3.1.0,>=2.0.0 in /home/gabriel/.local/lib/python3.10/site-packages (from IPython->cleanfunctions==1.0.0) (3.0.29)\n",
      "Requirement already satisfied: pygments>=2.4.0 in /home/gabriel/.local/lib/python3.10/site-packages (from IPython->cleanfunctions==1.0.0) (2.11.2)\n",
      "Requirement already satisfied: setuptools>=18.5 in /usr/lib/python3.10/site-packages (from IPython->cleanfunctions==1.0.0) (60.6.0)\n",
      "Requirement already satisfied: stack-data in /home/gabriel/.local/lib/python3.10/site-packages (from IPython->cleanfunctions==1.0.0) (0.2.0)\n",
      "Requirement already satisfied: traitlets>=5 in /home/gabriel/.local/lib/python3.10/site-packages (from IPython->cleanfunctions==1.0.0) (5.1.1)\n",
      "Requirement already satisfied: pexpect>4.3 in /home/gabriel/.local/lib/python3.10/site-packages (from IPython->cleanfunctions==1.0.0) (4.8.0)\n",
      "Requirement already satisfied: parso<0.9.0,>=0.8.0 in /home/gabriel/.local/lib/python3.10/site-packages (from jedi>=0.16->IPython->cleanfunctions==1.0.0) (0.8.3)\n",
      "Requirement already satisfied: ptyprocess>=0.5 in /home/gabriel/.local/lib/python3.10/site-packages (from pexpect>4.3->IPython->cleanfunctions==1.0.0) (0.7.0)\n",
      "Requirement already satisfied: wcwidth in /home/gabriel/.local/lib/python3.10/site-packages (from prompt-toolkit!=3.0.0,!=3.0.1,<3.1.0,>=2.0.0->IPython->cleanfunctions==1.0.0) (0.2.5)\n",
      "Requirement already satisfied: cycler>=0.10 in /home/gabriel/.local/lib/python3.10/site-packages (from matplotlib->cleanfunctions==1.0.0) (0.11.0)\n",
      "Requirement already satisfied: fonttools>=4.22.0 in /home/gabriel/.local/lib/python3.10/site-packages (from matplotlib->cleanfunctions==1.0.0) (4.33.3)\n",
      "Requirement already satisfied: kiwisolver>=1.0.1 in /home/gabriel/.local/lib/python3.10/site-packages (from matplotlib->cleanfunctions==1.0.0) (1.4.2)\n",
      "Requirement already satisfied: numpy>=1.17 in /usr/lib/python3.10/site-packages (from matplotlib->cleanfunctions==1.0.0) (1.22.3)\n",
      "Requirement already satisfied: packaging>=20.0 in /usr/lib/python3.10/site-packages (from matplotlib->cleanfunctions==1.0.0) (21.3)\n",
      "Requirement already satisfied: pillow>=6.2.0 in /usr/lib/python3.10/site-packages (from matplotlib->cleanfunctions==1.0.0) (9.1.1)\n",
      "Requirement already satisfied: pyparsing>=2.2.1 in /usr/lib/python3.10/site-packages (from matplotlib->cleanfunctions==1.0.0) (3.0.9)\n",
      "Requirement already satisfied: python-dateutil>=2.7 in /home/gabriel/.local/lib/python3.10/site-packages (from matplotlib->cleanfunctions==1.0.0) (2.8.2)\n",
      "Requirement already satisfied: six>=1.5 in /usr/lib/python3.10/site-packages (from python-dateutil>=2.7->matplotlib->cleanfunctions==1.0.0) (1.16.0)\n",
      "Collecting py4j==0.10.9.5\n",
      "  Downloading py4j-0.10.9.5-py2.py3-none-any.whl (199 kB)\n",
      "     |████████████████████████████████| 199 kB 1.2 MB/s            \n",
      "\u001b[?25hRequirement already satisfied: executing in /home/gabriel/.local/lib/python3.10/site-packages (from stack-data->IPython->cleanfunctions==1.0.0) (0.8.3)\n",
      "Requirement already satisfied: asttokens in /home/gabriel/.local/lib/python3.10/site-packages (from stack-data->IPython->cleanfunctions==1.0.0) (2.0.5)\n",
      "Requirement already satisfied: pure-eval in /home/gabriel/.local/lib/python3.10/site-packages (from stack-data->IPython->cleanfunctions==1.0.0) (0.2.2)\n",
      "Using legacy 'setup.py install' for cleanfunctions, since package 'wheel' is not installed.\n",
      "Using legacy 'setup.py install' for pyspark, since package 'wheel' is not installed.\n",
      "Using legacy 'setup.py install' for zope.interface, since package 'wheel' is not installed.\n",
      "Installing collected packages: zope.interface, py4j, scipy, pyspark, datetime, cleanfunctions\n",
      "    Running setup.py install for zope.interface ... \u001b[?25ldone\n",
      "\u001b[?25h    Running setup.py install for pyspark ... \u001b[?25ldone\n",
      "\u001b[?25h    Running setup.py install for cleanfunctions ... \u001b[?25ldone\n",
      "\u001b[?25hSuccessfully installed cleanfunctions-1.0.0 datetime-4.7 py4j-0.10.9.5 pyspark-3.3.0 scipy-1.9.1 zope.interface-5.4.0\n"
     ]
    },
    {
     "ename": "ModuleNotFoundError",
     "evalue": "No module named 'cleanfunctions'",
     "output_type": "error",
     "traceback": [
      "\u001b[0;31m---------------------------------------------------------------------------\u001b[0m",
      "\u001b[0;31mModuleNotFoundError\u001b[0m                       Traceback (most recent call last)",
      "\u001b[1;32m/home/gabriel/Desktop/brain_lib/teste.ipynb Cell 1'\u001b[0m in \u001b[0;36m<cell line: 2>\u001b[0;34m()\u001b[0m\n\u001b[1;32m      <a href='vscode-notebook-cell:/home/gabriel/Desktop/brain_lib/teste.ipynb#ch0000000?line=0'>1</a>\u001b[0m get_ipython()\u001b[39m.\u001b[39msystem(\u001b[39m'\u001b[39m\u001b[39mpip install git+https://github.com/2cai/cleanfunctions\u001b[39m\u001b[39m'\u001b[39m)\n\u001b[0;32m----> <a href='vscode-notebook-cell:/home/gabriel/Desktop/brain_lib/teste.ipynb#ch0000000?line=1'>2</a>\u001b[0m \u001b[39mfrom\u001b[39;00m \u001b[39mcleanfunctions\u001b[39;00m\u001b[39m.\u001b[39;00m\u001b[39mfunctions\u001b[39;00m \u001b[39mimport\u001b[39;00m \u001b[39m*\u001b[39m\n",
      "\u001b[0;31mModuleNotFoundError\u001b[0m: No module named 'cleanfunctions'"
     ]
    }
   ],
   "source": [
    "!pip install git+https://github.com/2cai/cleanfunctions"
   ]
  },
  {
   "cell_type": "code",
   "execution_count": 15,
   "metadata": {},
   "outputs": [
    {
     "name": "stderr",
     "output_type": "stream",
     "text": [
      "WARNING:root:'PYARROW_IGNORE_TIMEZONE' environment variable was not set. It is required to set this environment variable to '1' in both driver and executor sides if you use pyarrow>=2.0.0. pandas-on-Spark will set it for you but it does not work if there is a Spark context already launched.\n"
     ]
    }
   ],
   "source": [
    "from func.functions import * "
   ]
  },
  {
   "cell_type": "code",
   "execution_count": 14,
   "metadata": {},
   "outputs": [
    {
     "name": "stdout",
     "output_type": "stream",
     "text": [
      "Defaulting to user installation because normal site-packages is not writeable\n",
      "Collecting PyArrow\n",
      "  Downloading pyarrow-9.0.0-cp310-cp310-manylinux_2_17_x86_64.manylinux2014_x86_64.whl (35.3 MB)\n",
      "     |████████████████████████████████| 35.3 MB 3.1 MB/s            \n",
      "\u001b[?25hRequirement already satisfied: numpy>=1.16.6 in /usr/lib/python3.10/site-packages (from PyArrow) (1.22.3)\n",
      "Installing collected packages: PyArrow\n",
      "\u001b[33m  WARNING: The script plasma_store is installed in '/home/gabriel/.local/bin' which is not on PATH.\n",
      "  Consider adding this directory to PATH or, if you prefer to suppress this warning, use --no-warn-script-location.\u001b[0m\n",
      "Successfully installed PyArrow-9.0.0\n"
     ]
    }
   ],
   "source": [
    "!pip install PyArrow"
   ]
  },
  {
   "cell_type": "markdown",
   "metadata": {},
   "source": []
  }
 ],
 "metadata": {
  "kernelspec": {
   "display_name": "Python 3.10.4 64-bit",
   "language": "python",
   "name": "python3"
  },
  "language_info": {
   "codemirror_mode": {
    "name": "ipython",
    "version": 3
   },
   "file_extension": ".py",
   "mimetype": "text/x-python",
   "name": "python",
   "nbconvert_exporter": "python",
   "pygments_lexer": "ipython3",
   "version": "3.10.4"
  },
  "orig_nbformat": 4,
  "vscode": {
   "interpreter": {
    "hash": "e7370f93d1d0cde622a1f8e1c04877d8463912d04d973331ad4851f04de6915a"
   }
  }
 },
 "nbformat": 4,
 "nbformat_minor": 2
}
