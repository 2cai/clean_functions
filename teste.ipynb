{
 "cells": [
  {
   "cell_type": "code",
   "execution_count": 1,
   "metadata": {},
   "outputs": [
    {
     "name": "stdout",
     "output_type": "stream",
     "text": [
      "Defaulting to user installation because normal site-packages is not writeable\n",
      "Collecting git+https://github.com/2cai/clean_functions@main\n",
      "  Cloning https://github.com/2cai/clean_functions (to revision main) to /tmp/pip-req-build-1sz9v51j\n",
      "  Running command git clone -q https://github.com/2cai/clean_functions /tmp/pip-req-build-1sz9v51j\n",
      "Requirement already satisfied: pandas in /home/gabriel/.local/lib/python3.10/site-packages (from brainlib==1.0.0) (1.4.2)\n",
      "Collecting datetime\n",
      "  Downloading DateTime-4.7-py2.py3-none-any.whl (52 kB)\n",
      "     |████████████████████████████████| 52 kB 2.0 MB/s             \n",
      "\u001b[?25h\u001b[31mERROR: Could not find a version that satisfies the requirement operator (from brainlib)\u001b[0m\n",
      "\u001b[31mERROR: No matching distribution found for operator\u001b[0m\n"
     ]
    }
   ],
   "source": [
    "!pip install git+https://github.com/2cai/clean_functions@main"
   ]
  }
 ],
 "metadata": {
  "kernelspec": {
   "display_name": "Python 3.10.4 64-bit",
   "language": "python",
   "name": "python3"
  },
  "language_info": {
   "codemirror_mode": {
    "name": "ipython",
    "version": 3
   },
   "file_extension": ".py",
   "mimetype": "text/x-python",
   "name": "python",
   "nbconvert_exporter": "python",
   "pygments_lexer": "ipython3",
   "version": "3.10.4"
  },
  "orig_nbformat": 4,
  "vscode": {
   "interpreter": {
    "hash": "e7370f93d1d0cde622a1f8e1c04877d8463912d04d973331ad4851f04de6915a"
   }
  }
 },
 "nbformat": 4,
 "nbformat_minor": 2
}
